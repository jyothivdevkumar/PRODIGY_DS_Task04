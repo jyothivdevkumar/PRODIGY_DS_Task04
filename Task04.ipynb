{
 "cells": [
  {
   "cell_type": "markdown",
   "id": "fb89e2d1-8b35-41b5-b315-195c05072342",
   "metadata": {
    "id": "fb89e2d1-8b35-41b5-b315-195c05072342",
    "tags": []
   },
   "source": [
    "# 1 | Introduction"
   ]
  },
  {
   "cell_type": "markdown",
   "id": "f2d3ea81-9cec-4435-9bf6-2c2f3bcfdce3",
   "metadata": {
    "id": "f2d3ea81-9cec-4435-9bf6-2c2f3bcfdce3"
   },
   "source": [
    "## Import Libraries"
   ]
  },
  {
   "cell_type": "code",
   "execution_count": 1,
   "id": "674c871c-a0c7-4c8f-83ae-6321dd657880",
   "metadata": {
    "id": "674c871c-a0c7-4c8f-83ae-6321dd657880"
   },
   "outputs": [],
   "source": [
    "import numpy as np\n",
    "import pandas as pd\n",
    "import matplotlib.pyplot as plt\n",
    "import seaborn as sns\n",
    "import warnings\n",
    "warnings.filterwarnings('ignore')\n",
    "import os"
   ]
  },
  {
   "cell_type": "markdown",
   "id": "8c8070e3-acd4-4c1d-8fd1-fb34c4121d6c",
   "metadata": {
    "id": "8c8070e3-acd4-4c1d-8fd1-fb34c4121d6c"
   },
   "source": [
    "## Read the data"
   ]
  },
  {
   "cell_type": "code",
   "execution_count": 2,
   "id": "8f9bc4c8-845a-4e95-bcc9-ad0bdd56a23d",
   "metadata": {
    "id": "8f9bc4c8-845a-4e95-bcc9-ad0bdd56a23d"
   },
   "outputs": [],
   "source": [
    "col=['Id' , 'Entity' , 'Sentiment' , 'Content']\n",
    "df_train=pd.read_csv(\"twitter_training.csv\" , names=col)"
   ]
  },
  {
   "cell_type": "code",
   "execution_count": 3,
   "id": "72efd913-1c4f-4290-bb18-6e6c6a91f60b",
   "metadata": {
    "id": "72efd913-1c4f-4290-bb18-6e6c6a91f60b"
   },
   "outputs": [],
   "source": [
    "df_test=pd.read_csv(\"twitter_validation.csv\" , names=col)"
   ]
  },
  {
   "cell_type": "code",
   "execution_count": 4,
   "id": "179930fe-1d99-4016-9b8b-ed415eb30751",
   "metadata": {
    "colab": {
     "base_uri": "https://localhost:8080/",
     "height": 424
    },
    "id": "179930fe-1d99-4016-9b8b-ed415eb30751",
    "outputId": "ae0d9b2f-78ba-488d-90c7-cf668eb34adc"
   },
   "outputs": [
    {
     "data": {
      "text/html": [
       "\n",
       "  <div id=\"df-9ee9407d-1f01-466d-93f7-1db6bd9dd18e\" class=\"colab-df-container\">\n",
       "    <div>\n",
       "<style scoped>\n",
       "    .dataframe tbody tr th:only-of-type {\n",
       "        vertical-align: middle;\n",
       "    }\n",
       "\n",
       "    .dataframe tbody tr th {\n",
       "        vertical-align: top;\n",
       "    }\n",
       "\n",
       "    .dataframe thead th {\n",
       "        text-align: right;\n",
       "    }\n",
       "</style>\n",
       "<table border=\"1\" class=\"dataframe\">\n",
       "  <thead>\n",
       "    <tr style=\"text-align: right;\">\n",
       "      <th></th>\n",
       "      <th>Id</th>\n",
       "      <th>Entity</th>\n",
       "      <th>Sentiment</th>\n",
       "      <th>Content</th>\n",
       "    </tr>\n",
       "  </thead>\n",
       "  <tbody>\n",
       "    <tr>\n",
       "      <th>0</th>\n",
       "      <td>2401</td>\n",
       "      <td>Borderlands</td>\n",
       "      <td>Positive</td>\n",
       "      <td>im getting on borderlands and i will murder yo...</td>\n",
       "    </tr>\n",
       "    <tr>\n",
       "      <th>1</th>\n",
       "      <td>2401</td>\n",
       "      <td>Borderlands</td>\n",
       "      <td>Positive</td>\n",
       "      <td>I am coming to the borders and I will kill you...</td>\n",
       "    </tr>\n",
       "    <tr>\n",
       "      <th>2</th>\n",
       "      <td>2401</td>\n",
       "      <td>Borderlands</td>\n",
       "      <td>Positive</td>\n",
       "      <td>im getting on borderlands and i will kill you ...</td>\n",
       "    </tr>\n",
       "    <tr>\n",
       "      <th>3</th>\n",
       "      <td>2401</td>\n",
       "      <td>Borderlands</td>\n",
       "      <td>Positive</td>\n",
       "      <td>im coming on borderlands and i will murder you...</td>\n",
       "    </tr>\n",
       "    <tr>\n",
       "      <th>4</th>\n",
       "      <td>2401</td>\n",
       "      <td>Borderlands</td>\n",
       "      <td>Positive</td>\n",
       "      <td>im getting on borderlands 2 and i will murder ...</td>\n",
       "    </tr>\n",
       "    <tr>\n",
       "      <th>...</th>\n",
       "      <td>...</td>\n",
       "      <td>...</td>\n",
       "      <td>...</td>\n",
       "      <td>...</td>\n",
       "    </tr>\n",
       "    <tr>\n",
       "      <th>15832</th>\n",
       "      <td>3108</td>\n",
       "      <td>Dota2</td>\n",
       "      <td>Negative</td>\n",
       "      <td>She wtf</td>\n",
       "    </tr>\n",
       "    <tr>\n",
       "      <th>15833</th>\n",
       "      <td>3108</td>\n",
       "      <td>Dota2</td>\n",
       "      <td>Negative</td>\n",
       "      <td>wtf</td>\n",
       "    </tr>\n",
       "    <tr>\n",
       "      <th>15834</th>\n",
       "      <td>3109</td>\n",
       "      <td>Dota2</td>\n",
       "      <td>Irrelevant</td>\n",
       "      <td>ICYMI: @BLASTDota finds sponsor in @KITKAT. . ...</td>\n",
       "    </tr>\n",
       "    <tr>\n",
       "      <th>15835</th>\n",
       "      <td>3109</td>\n",
       "      <td>Dota2</td>\n",
       "      <td>Irrelevant</td>\n",
       "      <td>ICYMI: @ BLASTDota finds sponsor in @ KITKAT. ...</td>\n",
       "    </tr>\n",
       "    <tr>\n",
       "      <th>15836</th>\n",
       "      <td>3109</td>\n",
       "      <td>Dota2</td>\n",
       "      <td>Irrelevant</td>\n",
       "      <td>ICYMI: @ BLASTDota finds a sponsor in @ KITKAT...</td>\n",
       "    </tr>\n",
       "  </tbody>\n",
       "</table>\n",
       "<p>15837 rows × 4 columns</p>\n",
       "</div>\n",
       "    <div class=\"colab-df-buttons\">\n",
       "\n",
       "  <div class=\"colab-df-container\">\n",
       "    <button class=\"colab-df-convert\" onclick=\"convertToInteractive('df-9ee9407d-1f01-466d-93f7-1db6bd9dd18e')\"\n",
       "            title=\"Convert this dataframe to an interactive table.\"\n",
       "            style=\"display:none;\">\n",
       "\n",
       "  <svg xmlns=\"http://www.w3.org/2000/svg\" height=\"24px\" viewBox=\"0 -960 960 960\">\n",
       "    <path d=\"M120-120v-720h720v720H120Zm60-500h600v-160H180v160Zm220 220h160v-160H400v160Zm0 220h160v-160H400v160ZM180-400h160v-160H180v160Zm440 0h160v-160H620v160ZM180-180h160v-160H180v160Zm440 0h160v-160H620v160Z\"/>\n",
       "  </svg>\n",
       "    </button>\n",
       "\n",
       "  <style>\n",
       "    .colab-df-container {\n",
       "      display:flex;\n",
       "      gap: 12px;\n",
       "    }\n",
       "\n",
       "    .colab-df-convert {\n",
       "      background-color: #E8F0FE;\n",
       "      border: none;\n",
       "      border-radius: 50%;\n",
       "      cursor: pointer;\n",
       "      display: none;\n",
       "      fill: #1967D2;\n",
       "      height: 32px;\n",
       "      padding: 0 0 0 0;\n",
       "      width: 32px;\n",
       "    }\n",
       "\n",
       "    .colab-df-convert:hover {\n",
       "      background-color: #E2EBFA;\n",
       "      box-shadow: 0px 1px 2px rgba(60, 64, 67, 0.3), 0px 1px 3px 1px rgba(60, 64, 67, 0.15);\n",
       "      fill: #174EA6;\n",
       "    }\n",
       "\n",
       "    .colab-df-buttons div {\n",
       "      margin-bottom: 4px;\n",
       "    }\n",
       "\n",
       "    [theme=dark] .colab-df-convert {\n",
       "      background-color: #3B4455;\n",
       "      fill: #D2E3FC;\n",
       "    }\n",
       "\n",
       "    [theme=dark] .colab-df-convert:hover {\n",
       "      background-color: #434B5C;\n",
       "      box-shadow: 0px 1px 3px 1px rgba(0, 0, 0, 0.15);\n",
       "      filter: drop-shadow(0px 1px 2px rgba(0, 0, 0, 0.3));\n",
       "      fill: #FFFFFF;\n",
       "    }\n",
       "  </style>\n",
       "\n",
       "    <script>\n",
       "      const buttonEl =\n",
       "        document.querySelector('#df-9ee9407d-1f01-466d-93f7-1db6bd9dd18e button.colab-df-convert');\n",
       "      buttonEl.style.display =\n",
       "        google.colab.kernel.accessAllowed ? 'block' : 'none';\n",
       "\n",
       "      async function convertToInteractive(key) {\n",
       "        const element = document.querySelector('#df-9ee9407d-1f01-466d-93f7-1db6bd9dd18e');\n",
       "        const dataTable =\n",
       "          await google.colab.kernel.invokeFunction('convertToInteractive',\n",
       "                                                    [key], {});\n",
       "        if (!dataTable) return;\n",
       "\n",
       "        const docLinkHtml = 'Like what you see? Visit the ' +\n",
       "          '<a target=\"_blank\" href=https://colab.research.google.com/notebooks/data_table.ipynb>data table notebook</a>'\n",
       "          + ' to learn more about interactive tables.';\n",
       "        element.innerHTML = '';\n",
       "        dataTable['output_type'] = 'display_data';\n",
       "        await google.colab.output.renderOutput(dataTable, element);\n",
       "        const docLink = document.createElement('div');\n",
       "        docLink.innerHTML = docLinkHtml;\n",
       "        element.appendChild(docLink);\n",
       "      }\n",
       "    </script>\n",
       "  </div>\n",
       "\n",
       "\n",
       "<div id=\"df-17cd7a78-2ea4-4821-8de2-bb988b197e1a\">\n",
       "  <button class=\"colab-df-quickchart\" onclick=\"quickchart('df-17cd7a78-2ea4-4821-8de2-bb988b197e1a')\"\n",
       "            title=\"Suggest charts.\"\n",
       "            style=\"display:none;\">\n",
       "\n",
       "<svg xmlns=\"http://www.w3.org/2000/svg\" height=\"24px\"viewBox=\"0 0 24 24\"\n",
       "     width=\"24px\">\n",
       "    <g>\n",
       "        <path d=\"M19 3H5c-1.1 0-2 .9-2 2v14c0 1.1.9 2 2 2h14c1.1 0 2-.9 2-2V5c0-1.1-.9-2-2-2zM9 17H7v-7h2v7zm4 0h-2V7h2v10zm4 0h-2v-4h2v4z\"/>\n",
       "    </g>\n",
       "</svg>\n",
       "  </button>\n",
       "\n",
       "<style>\n",
       "  .colab-df-quickchart {\n",
       "      --bg-color: #E8F0FE;\n",
       "      --fill-color: #1967D2;\n",
       "      --hover-bg-color: #E2EBFA;\n",
       "      --hover-fill-color: #174EA6;\n",
       "      --disabled-fill-color: #AAA;\n",
       "      --disabled-bg-color: #DDD;\n",
       "  }\n",
       "\n",
       "  [theme=dark] .colab-df-quickchart {\n",
       "      --bg-color: #3B4455;\n",
       "      --fill-color: #D2E3FC;\n",
       "      --hover-bg-color: #434B5C;\n",
       "      --hover-fill-color: #FFFFFF;\n",
       "      --disabled-bg-color: #3B4455;\n",
       "      --disabled-fill-color: #666;\n",
       "  }\n",
       "\n",
       "  .colab-df-quickchart {\n",
       "    background-color: var(--bg-color);\n",
       "    border: none;\n",
       "    border-radius: 50%;\n",
       "    cursor: pointer;\n",
       "    display: none;\n",
       "    fill: var(--fill-color);\n",
       "    height: 32px;\n",
       "    padding: 0;\n",
       "    width: 32px;\n",
       "  }\n",
       "\n",
       "  .colab-df-quickchart:hover {\n",
       "    background-color: var(--hover-bg-color);\n",
       "    box-shadow: 0 1px 2px rgba(60, 64, 67, 0.3), 0 1px 3px 1px rgba(60, 64, 67, 0.15);\n",
       "    fill: var(--button-hover-fill-color);\n",
       "  }\n",
       "\n",
       "  .colab-df-quickchart-complete:disabled,\n",
       "  .colab-df-quickchart-complete:disabled:hover {\n",
       "    background-color: var(--disabled-bg-color);\n",
       "    fill: var(--disabled-fill-color);\n",
       "    box-shadow: none;\n",
       "  }\n",
       "\n",
       "  .colab-df-spinner {\n",
       "    border: 2px solid var(--fill-color);\n",
       "    border-color: transparent;\n",
       "    border-bottom-color: var(--fill-color);\n",
       "    animation:\n",
       "      spin 1s steps(1) infinite;\n",
       "  }\n",
       "\n",
       "  @keyframes spin {\n",
       "    0% {\n",
       "      border-color: transparent;\n",
       "      border-bottom-color: var(--fill-color);\n",
       "      border-left-color: var(--fill-color);\n",
       "    }\n",
       "    20% {\n",
       "      border-color: transparent;\n",
       "      border-left-color: var(--fill-color);\n",
       "      border-top-color: var(--fill-color);\n",
       "    }\n",
       "    30% {\n",
       "      border-color: transparent;\n",
       "      border-left-color: var(--fill-color);\n",
       "      border-top-color: var(--fill-color);\n",
       "      border-right-color: var(--fill-color);\n",
       "    }\n",
       "    40% {\n",
       "      border-color: transparent;\n",
       "      border-right-color: var(--fill-color);\n",
       "      border-top-color: var(--fill-color);\n",
       "    }\n",
       "    60% {\n",
       "      border-color: transparent;\n",
       "      border-right-color: var(--fill-color);\n",
       "    }\n",
       "    80% {\n",
       "      border-color: transparent;\n",
       "      border-right-color: var(--fill-color);\n",
       "      border-bottom-color: var(--fill-color);\n",
       "    }\n",
       "    90% {\n",
       "      border-color: transparent;\n",
       "      border-bottom-color: var(--fill-color);\n",
       "    }\n",
       "  }\n",
       "</style>\n",
       "\n",
       "  <script>\n",
       "    async function quickchart(key) {\n",
       "      const quickchartButtonEl =\n",
       "        document.querySelector('#' + key + ' button');\n",
       "      quickchartButtonEl.disabled = true;  // To prevent multiple clicks.\n",
       "      quickchartButtonEl.classList.add('colab-df-spinner');\n",
       "      try {\n",
       "        const charts = await google.colab.kernel.invokeFunction(\n",
       "            'suggestCharts', [key], {});\n",
       "      } catch (error) {\n",
       "        console.error('Error during call to suggestCharts:', error);\n",
       "      }\n",
       "      quickchartButtonEl.classList.remove('colab-df-spinner');\n",
       "      quickchartButtonEl.classList.add('colab-df-quickchart-complete');\n",
       "    }\n",
       "    (() => {\n",
       "      let quickchartButtonEl =\n",
       "        document.querySelector('#df-17cd7a78-2ea4-4821-8de2-bb988b197e1a button');\n",
       "      quickchartButtonEl.style.display =\n",
       "        google.colab.kernel.accessAllowed ? 'block' : 'none';\n",
       "    })();\n",
       "  </script>\n",
       "</div>\n",
       "    </div>\n",
       "  </div>\n"
      ],
      "text/plain": [
       "         Id       Entity   Sentiment  \\\n",
       "0      2401  Borderlands    Positive   \n",
       "1      2401  Borderlands    Positive   \n",
       "2      2401  Borderlands    Positive   \n",
       "3      2401  Borderlands    Positive   \n",
       "4      2401  Borderlands    Positive   \n",
       "...     ...          ...         ...   \n",
       "15832  3108        Dota2    Negative   \n",
       "15833  3108        Dota2    Negative   \n",
       "15834  3109        Dota2  Irrelevant   \n",
       "15835  3109        Dota2  Irrelevant   \n",
       "15836  3109        Dota2  Irrelevant   \n",
       "\n",
       "                                                 Content  \n",
       "0      im getting on borderlands and i will murder yo...  \n",
       "1      I am coming to the borders and I will kill you...  \n",
       "2      im getting on borderlands and i will kill you ...  \n",
       "3      im coming on borderlands and i will murder you...  \n",
       "4      im getting on borderlands 2 and i will murder ...  \n",
       "...                                                  ...  \n",
       "15832                                            She wtf  \n",
       "15833                                                wtf  \n",
       "15834  ICYMI: @BLASTDota finds sponsor in @KITKAT. . ...  \n",
       "15835  ICYMI: @ BLASTDota finds sponsor in @ KITKAT. ...  \n",
       "15836  ICYMI: @ BLASTDota finds a sponsor in @ KITKAT...  \n",
       "\n",
       "[15837 rows x 4 columns]"
      ]
     },
     "execution_count": 4,
     "metadata": {},
     "output_type": "execute_result"
    }
   ],
   "source": [
    "df_train"
   ]
  },
  {
   "cell_type": "markdown",
   "id": "ca0d1e74-7a5b-4c2a-909f-d7d69bf8d96c",
   "metadata": {
    "id": "ca0d1e74-7a5b-4c2a-909f-d7d69bf8d96c"
   },
   "source": [
    "# 2 | Data Overview"
   ]
  },
  {
   "cell_type": "code",
   "execution_count": 5,
   "id": "9f236d14-a39f-4bfe-af1f-da688d1ed113",
   "metadata": {
    "colab": {
     "base_uri": "https://localhost:8080/"
    },
    "id": "9f236d14-a39f-4bfe-af1f-da688d1ed113",
    "outputId": "0cb243b6-2a42-4b6a-d590-640c33dbc1cf"
   },
   "outputs": [
    {
     "data": {
      "text/plain": [
       "(15837, 4)"
      ]
     },
     "execution_count": 5,
     "metadata": {},
     "output_type": "execute_result"
    }
   ],
   "source": [
    "df_train.shape"
   ]
  },
  {
   "cell_type": "code",
   "execution_count": 6,
   "id": "6a5b6b7a-aeb7-4f85-ab70-64367a0884bd",
   "metadata": {
    "colab": {
     "base_uri": "https://localhost:8080/"
    },
    "id": "6a5b6b7a-aeb7-4f85-ab70-64367a0884bd",
    "outputId": "d869f202-089d-45aa-cc9c-712a9e08498e"
   },
   "outputs": [
    {
     "data": {
      "text/plain": [
       "Index(['Id', 'Entity', 'Sentiment', 'Content'], dtype='object')"
      ]
     },
     "execution_count": 6,
     "metadata": {},
     "output_type": "execute_result"
    }
   ],
   "source": [
    "df_train.columns"
   ]
  },
  {
   "cell_type": "code",
   "execution_count": 7,
   "id": "18b925f0-47ed-4a48-999c-166c86fdfa63",
   "metadata": {
    "colab": {
     "base_uri": "https://localhost:8080/"
    },
    "id": "18b925f0-47ed-4a48-999c-166c86fdfa63",
    "outputId": "4ce3254f-5cd8-494b-f1e6-f44270aca7c4"
   },
   "outputs": [
    {
     "name": "stdout",
     "output_type": "stream",
     "text": [
      "<class 'pandas.core.frame.DataFrame'>\n",
      "RangeIndex: 15837 entries, 0 to 15836\n",
      "Data columns (total 4 columns):\n",
      " #   Column     Non-Null Count  Dtype \n",
      "---  ------     --------------  ----- \n",
      " 0   Id         15837 non-null  int64 \n",
      " 1   Entity     15837 non-null  object\n",
      " 2   Sentiment  15837 non-null  object\n",
      " 3   Content    15676 non-null  object\n",
      "dtypes: int64(1), object(3)\n",
      "memory usage: 495.0+ KB\n"
     ]
    }
   ],
   "source": [
    "df_train.info()"
   ]
  },
  {
   "cell_type": "code",
   "execution_count": 8,
   "id": "d8553237-9afa-4ef2-9885-571e89c6e402",
   "metadata": {
    "colab": {
     "base_uri": "https://localhost:8080/"
    },
    "id": "d8553237-9afa-4ef2-9885-571e89c6e402",
    "outputId": "8cba0abb-7575-4926-b1e8-4639d3f51a57"
   },
   "outputs": [
    {
     "data": {
      "text/plain": [
       "Id            int64\n",
       "Entity       object\n",
       "Sentiment    object\n",
       "Content      object\n",
       "dtype: object"
      ]
     },
     "execution_count": 8,
     "metadata": {},
     "output_type": "execute_result"
    }
   ],
   "source": [
    "df_train.dtypes"
   ]
  },
  {
   "cell_type": "markdown",
   "id": "c129bfc9-18cb-45c0-919a-5616fc924995",
   "metadata": {
    "id": "c129bfc9-18cb-45c0-919a-5616fc924995"
   },
   "source": [
    "# 3 | Data Cleaning"
   ]
  },
  {
   "cell_type": "code",
   "execution_count": 9,
   "id": "e0cba90c-70c8-458a-b268-6ccdeec5a48f",
   "metadata": {
    "colab": {
     "base_uri": "https://localhost:8080/"
    },
    "id": "e0cba90c-70c8-458a-b268-6ccdeec5a48f",
    "outputId": "96e393fd-63ed-48d7-eab5-723873abb747"
   },
   "outputs": [
    {
     "data": {
      "text/plain": [
       "Id             0\n",
       "Entity         0\n",
       "Sentiment      0\n",
       "Content      161\n",
       "dtype: int64"
      ]
     },
     "execution_count": 9,
     "metadata": {},
     "output_type": "execute_result"
    }
   ],
   "source": [
    "df_train.isnull().sum()"
   ]
  },
  {
   "cell_type": "markdown",
   "id": "1e72eb35-3355-43da-a7d6-b550b9d02d7e",
   "metadata": {
    "id": "1e72eb35-3355-43da-a7d6-b550b9d02d7e"
   },
   "source": [
    "There are 686 empty rows in content . we will drop them ."
   ]
  },
  {
   "cell_type": "code",
   "execution_count": 10,
   "id": "efd82028-a400-4c4b-be20-81df679754a7",
   "metadata": {
    "id": "efd82028-a400-4c4b-be20-81df679754a7"
   },
   "outputs": [],
   "source": [
    "df_train.dropna(subset=['Content'] , inplace=True)"
   ]
  },
  {
   "cell_type": "code",
   "execution_count": 11,
   "id": "11726e83-cf9d-45fb-8d6f-6ff888a3db18",
   "metadata": {
    "colab": {
     "base_uri": "https://localhost:8080/"
    },
    "id": "11726e83-cf9d-45fb-8d6f-6ff888a3db18",
    "outputId": "4ae67507-dbfa-4c4d-82a8-e67c6257c27b"
   },
   "outputs": [
    {
     "data": {
      "text/plain": [
       "(15676, 4)"
      ]
     },
     "execution_count": 11,
     "metadata": {},
     "output_type": "execute_result"
    }
   ],
   "source": [
    "df_train.shape"
   ]
  },
  {
   "cell_type": "code",
   "execution_count": 12,
   "id": "210f5bdb-c44c-4775-a82d-d883a9e293a2",
   "metadata": {
    "colab": {
     "base_uri": "https://localhost:8080/"
    },
    "id": "210f5bdb-c44c-4775-a82d-d883a9e293a2",
    "outputId": "384402c3-26b7-4574-a804-4cd271dcd0f4"
   },
   "outputs": [
    {
     "data": {
      "text/plain": [
       "array(['Positive', 'Neutral', 'Negative', 'Irrelevant'], dtype=object)"
      ]
     },
     "execution_count": 12,
     "metadata": {},
     "output_type": "execute_result"
    }
   ],
   "source": [
    "df_train.Sentiment.unique()"
   ]
  },
  {
   "cell_type": "code",
   "execution_count": 13,
   "id": "c932b3ee-f9f0-4cea-86a1-c4577b0ae526",
   "metadata": {
    "id": "c932b3ee-f9f0-4cea-86a1-c4577b0ae526"
   },
   "outputs": [],
   "source": [
    "df_train.Sentiment=df_train.Sentiment.replace('Irrelevant' , 'Neutral')\n",
    "df_test.Sentiment=df_test.Sentiment.replace('Irrelevant' , 'Neutral')"
   ]
  },
  {
   "cell_type": "code",
   "execution_count": 14,
   "id": "43921b94-34aa-42e4-a1a7-85a801cf758b",
   "metadata": {
    "colab": {
     "base_uri": "https://localhost:8080/"
    },
    "id": "43921b94-34aa-42e4-a1a7-85a801cf758b",
    "outputId": "cd955133-be74-49cd-a65d-c8bead1c50bf"
   },
   "outputs": [
    {
     "data": {
      "text/plain": [
       "array(['Positive', 'Neutral', 'Negative'], dtype=object)"
      ]
     },
     "execution_count": 14,
     "metadata": {},
     "output_type": "execute_result"
    }
   ],
   "source": [
    "df_train.Sentiment.unique()"
   ]
  },
  {
   "cell_type": "code",
   "execution_count": 15,
   "id": "ec8a61f4-0d2b-47c7-b0dd-0df5cbf02340",
   "metadata": {
    "colab": {
     "base_uri": "https://localhost:8080/"
    },
    "id": "ec8a61f4-0d2b-47c7-b0dd-0df5cbf02340",
    "outputId": "010f58a3-cc0a-4d89-ab96-1e7e4d4a257c"
   },
   "outputs": [
    {
     "data": {
      "text/plain": [
       "array(['Neutral', 'Negative', 'Positive'], dtype=object)"
      ]
     },
     "execution_count": 15,
     "metadata": {},
     "output_type": "execute_result"
    }
   ],
   "source": [
    "df_test.Sentiment.unique()"
   ]
  },
  {
   "cell_type": "markdown",
   "id": "af3ccea4-1a44-4edd-92fb-238ffae28ac3",
   "metadata": {
    "id": "af3ccea4-1a44-4edd-92fb-238ffae28ac3"
   },
   "source": [
    "# Exploratary Data Analysis"
   ]
  },
  {
   "cell_type": "markdown",
   "id": "ef0af235-2d5e-4a3c-b7f0-1ac0effb73d4",
   "metadata": {
    "id": "ef0af235-2d5e-4a3c-b7f0-1ac0effb73d4"
   },
   "source": [
    "### Sentiment"
   ]
  },
  {
   "cell_type": "code",
   "execution_count": 16,
   "id": "354b3371-25f3-42f0-a1bf-eec2b3e4ef92",
   "metadata": {
    "colab": {
     "base_uri": "https://localhost:8080/"
    },
    "id": "354b3371-25f3-42f0-a1bf-eec2b3e4ef92",
    "outputId": "ea23ac38-d466-48c9-cad1-bc56360f2734"
   },
   "outputs": [
    {
     "data": {
      "text/plain": [
       "Neutral     6453\n",
       "Negative    4648\n",
       "Positive    4575\n",
       "Name: Sentiment, dtype: int64"
      ]
     },
     "execution_count": 16,
     "metadata": {},
     "output_type": "execute_result"
    }
   ],
   "source": [
    "sentiment_count=df_train.Sentiment.value_counts()\n",
    "sentiment_count"
   ]
  },
  {
   "cell_type": "code",
   "execution_count": 17,
   "id": "5c3500aa-9fc0-4adf-b2f3-32ce6bd00992",
   "metadata": {
    "colab": {
     "base_uri": "https://localhost:8080/",
     "height": 406
    },
    "id": "5c3500aa-9fc0-4adf-b2f3-32ce6bd00992",
    "outputId": "33654a8b-525a-4e7b-8f2d-2c9b792bc1ca"
   },
   "outputs": [
    {
     "data": {
      "image/png": "[encoded data removed]",
      "text/plain": [
       "<Figure size 640x480 with 1 Axes>"
      ]
     },
     "metadata": {},
     "output_type": "display_data"
    }
   ],
   "source": [
    "y=['Neutral' , 'Negative' , 'Positive']\n",
    "plt.pie(sentiment_count , labels=y, autopct='%0.1f%%' )\n",
    "circle=plt.Circle((0,0),0.4, facecolor='white')\n",
    "plt.gca().add_patch(circle)\n",
    "plt.legend(bbox_to_anchor=(1.05, 1), loc='upper left')\n",
    "plt.show()"
   ]
  },
  {
   "cell_type": "markdown",
   "id": "ab258216-5503-47ca-a45a-fcc7e422f626",
   "metadata": {
    "id": "ab258216-5503-47ca-a45a-fcc7e422f626"
   },
   "source": [
    "There are 30.2% of Negative Comments , 41.9% of Neutral Comments and 27.9% of Positive Comments ."
   ]
  },
  {
   "cell_type": "markdown",
   "id": "c74f3a39-1d07-4b41-82ea-d72d91aa10f7",
   "metadata": {
    "id": "c74f3a39-1d07-4b41-82ea-d72d91aa10f7"
   },
   "source": [
    "###"
   ]
  },
  {
   "cell_type": "code",
   "execution_count": 18,
   "id": "2dcb5275-efab-42c4-b4ad-04f10e81172a",
   "metadata": {
    "colab": {
     "base_uri": "https://localhost:8080/"
    },
    "id": "2dcb5275-efab-42c4-b4ad-04f10e81172a",
    "outputId": "25654ccc-1555-4a5c-c706-52f24697e3bf"
   },
   "outputs": [
    {
     "data": {
      "text/plain": [
       "array(['Borderlands', 'CallOfDutyBlackopsColdWar', 'Amazon', 'Overwatch',\n",
       "       'Xbox(Xseries)', 'NBA2K', 'Dota2'], dtype=object)"
      ]
     },
     "execution_count": 18,
     "metadata": {},
     "output_type": "execute_result"
    }
   ],
   "source": [
    "df_train.Entity.unique()"
   ]
  },
  {
   "cell_type": "code",
   "execution_count": 19,
   "id": "8ea7048a-d03f-4d79-8496-ff6d6712fab0",
   "metadata": {
    "colab": {
     "base_uri": "https://localhost:8080/"
    },
    "id": "8ea7048a-d03f-4d79-8496-ff6d6712fab0",
    "outputId": "1a45d351-0427-4e05-d5f6-947fe665081b"
   },
   "outputs": [
    {
     "data": {
      "text/plain": [
       "CallOfDutyBlackopsColdWar    2343\n",
       "NBA2K                        2343\n",
       "Overwatch                    2316\n",
       "Xbox(Xseries)                2283\n",
       "Borderlands                  2280\n",
       "Amazon                       2276\n",
       "Dota2                        1835\n",
       "Name: Entity, dtype: int64"
      ]
     },
     "execution_count": 19,
     "metadata": {},
     "output_type": "execute_result"
    }
   ],
   "source": [
    "Entity_count=df_train.Entity.value_counts()\n",
    "Entity_count"
   ]
  },
  {
   "cell_type": "code",
   "execution_count": 20,
   "id": "321973e3-54f9-4d6f-8f5e-2b52e9befa20",
   "metadata": {
    "id": "321973e3-54f9-4d6f-8f5e-2b52e9befa20"
   },
   "outputs": [],
   "source": [
    "Entity_sort=Entity_count.sort_values(ascending=False)"
   ]
  },
  {
   "cell_type": "code",
   "execution_count": 21,
   "id": "e1299edb-4b3b-40ff-a1a3-f925db336b5a",
   "metadata": {
    "colab": {
     "base_uri": "https://localhost:8080/"
    },
    "id": "e1299edb-4b3b-40ff-a1a3-f925db336b5a",
    "outputId": "a0ff9275-7b6e-4575-a6de-1c61ed621a3e"
   },
   "outputs": [
    {
     "data": {
      "text/plain": [
       "CallOfDutyBlackopsColdWar    2343\n",
       "NBA2K                        2343\n",
       "Overwatch                    2316\n",
       "Xbox(Xseries)                2283\n",
       "Borderlands                  2280\n",
       "Amazon                       2276\n",
       "Dota2                        1835\n",
       "Name: Entity, dtype: int64"
      ]
     },
     "execution_count": 21,
     "metadata": {},
     "output_type": "execute_result"
    }
   ],
   "source": [
    "Entity_top10=Entity_sort.head(10)\n",
    "Entity_top10"
   ]
  },
  {
   "cell_type": "code",
   "execution_count": 22,
   "id": "8d36ad15-32a6-4a15-9634-73b2fd05a904",
   "metadata": {
    "id": "8d36ad15-32a6-4a15-9634-73b2fd05a904"
   },
   "outputs": [],
   "source": [
    "Entity_index=Entity_top10.index"
   ]
  },
  {
   "cell_type": "code",
   "execution_count": 23,
   "id": "dbb55af0-05b4-4826-bb6e-2ad99a41c353",
   "metadata": {
    "colab": {
     "base_uri": "https://localhost:8080/",
     "height": 575
    },
    "id": "dbb55af0-05b4-4826-bb6e-2ad99a41c353",
    "outputId": "9fc2b9d8-61a3-46ee-8079-4a36950ba6fd"
   },
   "outputs": [
    {
     "data": {
      "image/png": "[encoded data removed]",
      "text/plain": [
       "<Figure size 1300x500 with 1 Axes>"
      ]
     },
     "metadata": {},
     "output_type": "display_data"
    }
   ],
   "source": [
    "plt.figure(figsize=(13,5))\n",
    "\n",
    "x=['ApexLegends' , 'WorldOfCraft' , 'Dota2' , 'Microsoft' , 'Facebook' , 'TomClancysRainbowSix' , 'Verizon' , 'CallOfDuty' , 'LeagueOfLegends' , 'MaddenNFL']\n",
    "y=[2353,2357,2359,2361,2362,2364,2365,2367,2377,2377]\n",
    "\n",
    "plt.bar( x , y , alpha=0.7 , color='#A2625D')\n",
    "\n",
    "for i,v in enumerate(y):\n",
    "    plt.text(i,v,str(v),ha='center',weight='bold' )\n",
    "\n",
    "plt.xticks(rotation=45)\n",
    "plt.xlabel('Entity')\n",
    "plt.ylabel('Number of Post in twitter')\n",
    "plt.show()"
   ]
  },
  {
   "cell_type": "code",
   "execution_count": 24,
   "id": "6e1d9ddc-3419-4027-910b-74d578503d15",
   "metadata": {
    "colab": {
     "base_uri": "https://localhost:8080/"
    },
    "id": "6e1d9ddc-3419-4027-910b-74d578503d15",
    "outputId": "598fc2ea-f337-40f2-c737-5c0879845de4"
   },
   "outputs": [
    {
     "data": {
      "text/plain": [
       "CallOfDutyBlackopsColdWar    2343\n",
       "NBA2K                        2343\n",
       "Overwatch                    2316\n",
       "Name: Entity, dtype: int64"
      ]
     },
     "execution_count": 24,
     "metadata": {},
     "output_type": "execute_result"
    }
   ],
   "source": [
    "Entity_top3_df=Entity_sort.head(3)\n",
    "Entity_top3_df"
   ]
  },
  {
   "cell_type": "code",
   "execution_count": 25,
   "id": "5b265b12-4b66-4f75-81bc-7f4e877ff9d7",
   "metadata": {
    "colab": {
     "base_uri": "https://localhost:8080/"
    },
    "id": "5b265b12-4b66-4f75-81bc-7f4e877ff9d7",
    "outputId": "8f8ba286-c6f4-4cc3-a904-09fc4116ff22"
   },
   "outputs": [
    {
     "data": {
      "text/plain": [
       "['CallOfDutyBlackopsColdWar', 'NBA2K', 'Overwatch']"
      ]
     },
     "execution_count": 25,
     "metadata": {},
     "output_type": "execute_result"
    }
   ],
   "source": [
    "Entity_top3=Entity_top3_df.index.tolist()\n",
    "Entity_top3"
   ]
  },
  {
   "cell_type": "code",
   "execution_count": 26,
   "id": "44a0cd1d-8245-4566-ae1b-07e7a8338943",
   "metadata": {
    "colab": {
     "base_uri": "https://localhost:8080/"
    },
    "id": "44a0cd1d-8245-4566-ae1b-07e7a8338943",
    "outputId": "af68ac5e-b9f4-4883-ced5-ca54e704d5bc"
   },
   "outputs": [
    {
     "data": {
      "text/plain": [
       "Entity                     Sentiment\n",
       "CallOfDutyBlackopsColdWar  Negative      566\n",
       "                           Neutral       921\n",
       "                           Positive      856\n",
       "NBA2K                      Negative     1469\n",
       "                           Neutral       450\n",
       "                           Positive      424\n",
       "Overwatch                  Negative      627\n",
       "                           Neutral       963\n",
       "                           Positive      726\n",
       "Name: Sentiment, dtype: int64"
      ]
     },
     "execution_count": 26,
     "metadata": {},
     "output_type": "execute_result"
    }
   ],
   "source": [
    "sentiment_by_entity=df_train.loc[df_train['Entity'].isin(Entity_top3)].groupby('Entity')['Sentiment'].value_counts().sort_index()\n",
    "sentiment_by_entity"
   ]
  },
  {
   "cell_type": "code",
   "execution_count": 27,
   "id": "5891a705-cdf7-4610-beea-525a1afe82e6",
   "metadata": {
    "colab": {
     "base_uri": "https://localhost:8080/",
     "height": 282
    },
    "id": "5891a705-cdf7-4610-beea-525a1afe82e6",
    "outputId": "b700acd0-3698-4e0d-a9e5-89e4463eb19d"
   },
   "outputs": [
    {
     "data": {
      "text/plain": [
       "<matplotlib.legend.Legend at 0x7d295e5d26e0>"
      ]
     },
     "execution_count": 27,
     "metadata": {},
     "output_type": "execute_result"
    },
    {
     "data": {
      "image/png": "[encoded data removed]",
      "text/plain": [
       "<Figure size 1000x500 with 3 Axes>"
      ]
     },
     "metadata": {},
     "output_type": "display_data"
    }
   ],
   "source": [
    "plt.figure(figsize=(10,5))\n",
    "\n",
    "y=['Neutral' , 'Negative' , 'Positive']\n",
    "color=['#9C6383' , '#839C63' , '#63839C']\n",
    "\n",
    "plt.subplot(1,3,1)\n",
    "plt.pie(sentiment_by_entity[:3] , labels=y , autopct='%0.1f%%' , textprops={'fontsize':10} , colors=color)\n",
    "\n",
    "plt.subplot(1,3,2)\n",
    "plt.pie(sentiment_by_entity[3:6] , labels=y , autopct='%0.1f%%' , textprops={'fontsize':10} , colors=color)\n",
    "\n",
    "plt.subplot(1,3,3)\n",
    "plt.pie(sentiment_by_entity[6:] , labels=y , autopct='%0.1f%%' , textprops={'fontsize':10} , colors=color)\n",
    "\n",
    "plt.legend(bbox_to_anchor=(1.05, 1), loc='upper left' , fontsize=\"10\")"
   ]
  },
  {
   "cell_type": "markdown",
   "id": "b3b843b5-5751-4690-82aa-dd9bc6532ed4",
   "metadata": {
    "id": "b3b843b5-5751-4690-82aa-dd9bc6532ed4"
   },
   "source": [
    "There are 71.3% negative sentiment tweets about MaddenNFL, 47.5% neutral sentiment tweets about LeagueOfLegends, 44.1% neutral sentiment tweets about CallOfDuty."
   ]
  },
  {
   "cell_type": "markdown",
   "id": "de6ae324-91c9-45cb-8b92-bdf2909ff0c4",
   "metadata": {
    "id": "de6ae324-91c9-45cb-8b92-bdf2909ff0c4"
   },
   "source": [
    "# Model"
   ]
  },
  {
   "cell_type": "code",
   "execution_count": 28,
   "id": "81bbb7b0-7309-40a7-b0ec-c989897de31a",
   "metadata": {
    "colab": {
     "base_uri": "https://localhost:8080/",
     "height": 424
    },
    "id": "81bbb7b0-7309-40a7-b0ec-c989897de31a",
    "outputId": "260cda97-71f2-4564-b290-475b347dc274"
   },
   "outputs": [
    {
     "data": {
      "text/html": [
       "\n",
       "  <div id=\"df-72da4680-a56e-4ab0-a744-5ee7f4c95cf7\" class=\"colab-df-container\">\n",
       "    <div>\n",
       "<style scoped>\n",
       "    .dataframe tbody tr th:only-of-type {\n",
       "        vertical-align: middle;\n",
       "    }\n",
       "\n",
       "    .dataframe tbody tr th {\n",
       "        vertical-align: top;\n",
       "    }\n",
       "\n",
       "    .dataframe thead th {\n",
       "        text-align: right;\n",
       "    }\n",
       "</style>\n",
       "<table border=\"1\" class=\"dataframe\">\n",
       "  <thead>\n",
       "    <tr style=\"text-align: right;\">\n",
       "      <th></th>\n",
       "      <th>Id</th>\n",
       "      <th>Entity</th>\n",
       "      <th>Sentiment</th>\n",
       "      <th>Content</th>\n",
       "    </tr>\n",
       "  </thead>\n",
       "  <tbody>\n",
       "    <tr>\n",
       "      <th>0</th>\n",
       "      <td>2401</td>\n",
       "      <td>Borderlands</td>\n",
       "      <td>Positive</td>\n",
       "      <td>im getting on borderlands and i will murder yo...</td>\n",
       "    </tr>\n",
       "    <tr>\n",
       "      <th>1</th>\n",
       "      <td>2401</td>\n",
       "      <td>Borderlands</td>\n",
       "      <td>Positive</td>\n",
       "      <td>I am coming to the borders and I will kill you...</td>\n",
       "    </tr>\n",
       "    <tr>\n",
       "      <th>2</th>\n",
       "      <td>2401</td>\n",
       "      <td>Borderlands</td>\n",
       "      <td>Positive</td>\n",
       "      <td>im getting on borderlands and i will kill you ...</td>\n",
       "    </tr>\n",
       "    <tr>\n",
       "      <th>3</th>\n",
       "      <td>2401</td>\n",
       "      <td>Borderlands</td>\n",
       "      <td>Positive</td>\n",
       "      <td>im coming on borderlands and i will murder you...</td>\n",
       "    </tr>\n",
       "    <tr>\n",
       "      <th>4</th>\n",
       "      <td>2401</td>\n",
       "      <td>Borderlands</td>\n",
       "      <td>Positive</td>\n",
       "      <td>im getting on borderlands 2 and i will murder ...</td>\n",
       "    </tr>\n",
       "    <tr>\n",
       "      <th>...</th>\n",
       "      <td>...</td>\n",
       "      <td>...</td>\n",
       "      <td>...</td>\n",
       "      <td>...</td>\n",
       "    </tr>\n",
       "    <tr>\n",
       "      <th>15832</th>\n",
       "      <td>3108</td>\n",
       "      <td>Dota2</td>\n",
       "      <td>Negative</td>\n",
       "      <td>She wtf</td>\n",
       "    </tr>\n",
       "    <tr>\n",
       "      <th>15833</th>\n",
       "      <td>3108</td>\n",
       "      <td>Dota2</td>\n",
       "      <td>Negative</td>\n",
       "      <td>wtf</td>\n",
       "    </tr>\n",
       "    <tr>\n",
       "      <th>15834</th>\n",
       "      <td>3109</td>\n",
       "      <td>Dota2</td>\n",
       "      <td>Neutral</td>\n",
       "      <td>ICYMI: @BLASTDota finds sponsor in @KITKAT. . ...</td>\n",
       "    </tr>\n",
       "    <tr>\n",
       "      <th>15835</th>\n",
       "      <td>3109</td>\n",
       "      <td>Dota2</td>\n",
       "      <td>Neutral</td>\n",
       "      <td>ICYMI: @ BLASTDota finds sponsor in @ KITKAT. ...</td>\n",
       "    </tr>\n",
       "    <tr>\n",
       "      <th>15836</th>\n",
       "      <td>3109</td>\n",
       "      <td>Dota2</td>\n",
       "      <td>Neutral</td>\n",
       "      <td>ICYMI: @ BLASTDota finds a sponsor in @ KITKAT...</td>\n",
       "    </tr>\n",
       "  </tbody>\n",
       "</table>\n",
       "<p>15676 rows × 4 columns</p>\n",
       "</div>\n",
       "    <div class=\"colab-df-buttons\">\n",
       "\n",
       "  <div class=\"colab-df-container\">\n",
       "    <button class=\"colab-df-convert\" onclick=\"convertToInteractive('df-72da4680-a56e-4ab0-a744-5ee7f4c95cf7')\"\n",
       "            title=\"Convert this dataframe to an interactive table.\"\n",
       "            style=\"display:none;\">\n",
       "\n",
       "  <svg xmlns=\"http://www.w3.org/2000/svg\" height=\"24px\" viewBox=\"0 -960 960 960\">\n",
       "    <path d=\"M120-120v-720h720v720H120Zm60-500h600v-160H180v160Zm220 220h160v-160H400v160Zm0 220h160v-160H400v160ZM180-400h160v-160H180v160Zm440 0h160v-160H620v160ZM180-180h160v-160H180v160Zm440 0h160v-160H620v160Z\"/>\n",
       "  </svg>\n",
       "    </button>\n",
       "\n",
       "  <style>\n",
       "    .colab-df-container {\n",
       "      display:flex;\n",
       "      gap: 12px;\n",
       "    }\n",
       "\n",
       "    .colab-df-convert {\n",
       "      background-color: #E8F0FE;\n",
       "      border: none;\n",
       "      border-radius: 50%;\n",
       "      cursor: pointer;\n",
       "      display: none;\n",
       "      fill: #1967D2;\n",
       "      height: 32px;\n",
       "      padding: 0 0 0 0;\n",
       "      width: 32px;\n",
       "    }\n",
       "\n",
       "    .colab-df-convert:hover {\n",
       "      background-color: #E2EBFA;\n",
       "      box-shadow: 0px 1px 2px rgba(60, 64, 67, 0.3), 0px 1px 3px 1px rgba(60, 64, 67, 0.15);\n",
       "      fill: #174EA6;\n",
       "    }\n",
       "\n",
       "    .colab-df-buttons div {\n",
       "      margin-bottom: 4px;\n",
       "    }\n",
       "\n",
       "    [theme=dark] .colab-df-convert {\n",
       "      background-color: #3B4455;\n",
       "      fill: #D2E3FC;\n",
       "    }\n",
       "\n",
       "    [theme=dark] .colab-df-convert:hover {\n",
       "      background-color: #434B5C;\n",
       "      box-shadow: 0px 1px 3px 1px rgba(0, 0, 0, 0.15);\n",
       "      filter: drop-shadow(0px 1px 2px rgba(0, 0, 0, 0.3));\n",
       "      fill: #FFFFFF;\n",
       "    }\n",
       "  </style>\n",
       "\n",
       "    <script>\n",
       "      const buttonEl =\n",
       "        document.querySelector('#df-72da4680-a56e-4ab0-a744-5ee7f4c95cf7 button.colab-df-convert');\n",
       "      buttonEl.style.display =\n",
       "        google.colab.kernel.accessAllowed ? 'block' : 'none';\n",
       "\n",
       "      async function convertToInteractive(key) {\n",
       "        const element = document.querySelector('#df-72da4680-a56e-4ab0-a744-5ee7f4c95cf7');\n",
       "        const dataTable =\n",
       "          await google.colab.kernel.invokeFunction('convertToInteractive',\n",
       "                                                    [key], {});\n",
       "        if (!dataTable) return;\n",
       "\n",
       "        const docLinkHtml = 'Like what you see? Visit the ' +\n",
       "          '<a target=\"_blank\" href=https://colab.research.google.com/notebooks/data_table.ipynb>data table notebook</a>'\n",
       "          + ' to learn more about interactive tables.';\n",
       "        element.innerHTML = '';\n",
       "        dataTable['output_type'] = 'display_data';\n",
       "        await google.colab.output.renderOutput(dataTable, element);\n",
       "        const docLink = document.createElement('div');\n",
       "        docLink.innerHTML = docLinkHtml;\n",
       "        element.appendChild(docLink);\n",
       "      }\n",
       "    </script>\n",
       "  </div>\n",
       "\n",
       "\n",
       "<div id=\"df-90ed5d55-fbfd-48cb-bde2-a6f1dfa2a63b\">\n",
       "  <button class=\"colab-df-quickchart\" onclick=\"quickchart('df-90ed5d55-fbfd-48cb-bde2-a6f1dfa2a63b')\"\n",
       "            title=\"Suggest charts.\"\n",
       "            style=\"display:none;\">\n",
       "\n",
       "<svg xmlns=\"http://www.w3.org/2000/svg\" height=\"24px\"viewBox=\"0 0 24 24\"\n",
       "     width=\"24px\">\n",
       "    <g>\n",
       "        <path d=\"M19 3H5c-1.1 0-2 .9-2 2v14c0 1.1.9 2 2 2h14c1.1 0 2-.9 2-2V5c0-1.1-.9-2-2-2zM9 17H7v-7h2v7zm4 0h-2V7h2v10zm4 0h-2v-4h2v4z\"/>\n",
       "    </g>\n",
       "</svg>\n",
       "  </button>\n",
       "\n",
       "<style>\n",
       "  .colab-df-quickchart {\n",
       "      --bg-color: #E8F0FE;\n",
       "      --fill-color: #1967D2;\n",
       "      --hover-bg-color: #E2EBFA;\n",
       "      --hover-fill-color: #174EA6;\n",
       "      --disabled-fill-color: #AAA;\n",
       "      --disabled-bg-color: #DDD;\n",
       "  }\n",
       "\n",
       "  [theme=dark] .colab-df-quickchart {\n",
       "      --bg-color: #3B4455;\n",
       "      --fill-color: #D2E3FC;\n",
       "      --hover-bg-color: #434B5C;\n",
       "      --hover-fill-color: #FFFFFF;\n",
       "      --disabled-bg-color: #3B4455;\n",
       "      --disabled-fill-color: #666;\n",
       "  }\n",
       "\n",
       "  .colab-df-quickchart {\n",
       "    background-color: var(--bg-color);\n",
       "    border: none;\n",
       "    border-radius: 50%;\n",
       "    cursor: pointer;\n",
       "    display: none;\n",
       "    fill: var(--fill-color);\n",
       "    height: 32px;\n",
       "    padding: 0;\n",
       "    width: 32px;\n",
       "  }\n",
       "\n",
       "  .colab-df-quickchart:hover {\n",
       "    background-color: var(--hover-bg-color);\n",
       "    box-shadow: 0 1px 2px rgba(60, 64, 67, 0.3), 0 1px 3px 1px rgba(60, 64, 67, 0.15);\n",
       "    fill: var(--button-hover-fill-color);\n",
       "  }\n",
       "\n",
       "  .colab-df-quickchart-complete:disabled,\n",
       "  .colab-df-quickchart-complete:disabled:hover {\n",
       "    background-color: var(--disabled-bg-color);\n",
       "    fill: var(--disabled-fill-color);\n",
       "    box-shadow: none;\n",
       "  }\n",
       "\n",
       "  .colab-df-spinner {\n",
       "    border: 2px solid var(--fill-color);\n",
       "    border-color: transparent;\n",
       "    border-bottom-color: var(--fill-color);\n",
       "    animation:\n",
       "      spin 1s steps(1) infinite;\n",
       "  }\n",
       "\n",
       "  @keyframes spin {\n",
       "    0% {\n",
       "      border-color: transparent;\n",
       "      border-bottom-color: var(--fill-color);\n",
       "      border-left-color: var(--fill-color);\n",
       "    }\n",
       "    20% {\n",
       "      border-color: transparent;\n",
       "      border-left-color: var(--fill-color);\n",
       "      border-top-color: var(--fill-color);\n",
       "    }\n",
       "    30% {\n",
       "      border-color: transparent;\n",
       "      border-left-color: var(--fill-color);\n",
       "      border-top-color: var(--fill-color);\n",
       "      border-right-color: var(--fill-color);\n",
       "    }\n",
       "    40% {\n",
       "      border-color: transparent;\n",
       "      border-right-color: var(--fill-color);\n",
       "      border-top-color: var(--fill-color);\n",
       "    }\n",
       "    60% {\n",
       "      border-color: transparent;\n",
       "      border-right-color: var(--fill-color);\n",
       "    }\n",
       "    80% {\n",
       "      border-color: transparent;\n",
       "      border-right-color: var(--fill-color);\n",
       "      border-bottom-color: var(--fill-color);\n",
       "    }\n",
       "    90% {\n",
       "      border-color: transparent;\n",
       "      border-bottom-color: var(--fill-color);\n",
       "    }\n",
       "  }\n",
       "</style>\n",
       "\n",
       "  <script>\n",
       "    async function quickchart(key) {\n",
       "      const quickchartButtonEl =\n",
       "        document.querySelector('#' + key + ' button');\n",
       "      quickchartButtonEl.disabled = true;  // To prevent multiple clicks.\n",
       "      quickchartButtonEl.classList.add('colab-df-spinner');\n",
       "      try {\n",
       "        const charts = await google.colab.kernel.invokeFunction(\n",
       "            'suggestCharts', [key], {});\n",
       "      } catch (error) {\n",
       "        console.error('Error during call to suggestCharts:', error);\n",
       "      }\n",
       "      quickchartButtonEl.classList.remove('colab-df-spinner');\n",
       "      quickchartButtonEl.classList.add('colab-df-quickchart-complete');\n",
       "    }\n",
       "    (() => {\n",
       "      let quickchartButtonEl =\n",
       "        document.querySelector('#df-90ed5d55-fbfd-48cb-bde2-a6f1dfa2a63b button');\n",
       "      quickchartButtonEl.style.display =\n",
       "        google.colab.kernel.accessAllowed ? 'block' : 'none';\n",
       "    })();\n",
       "  </script>\n",
       "</div>\n",
       "    </div>\n",
       "  </div>\n"
      ],
      "text/plain": [
       "         Id       Entity Sentiment  \\\n",
       "0      2401  Borderlands  Positive   \n",
       "1      2401  Borderlands  Positive   \n",
       "2      2401  Borderlands  Positive   \n",
       "3      2401  Borderlands  Positive   \n",
       "4      2401  Borderlands  Positive   \n",
       "...     ...          ...       ...   \n",
       "15832  3108        Dota2  Negative   \n",
       "15833  3108        Dota2  Negative   \n",
       "15834  3109        Dota2   Neutral   \n",
       "15835  3109        Dota2   Neutral   \n",
       "15836  3109        Dota2   Neutral   \n",
       "\n",
       "                                                 Content  \n",
       "0      im getting on borderlands and i will murder yo...  \n",
       "1      I am coming to the borders and I will kill you...  \n",
       "2      im getting on borderlands and i will kill you ...  \n",
       "3      im coming on borderlands and i will murder you...  \n",
       "4      im getting on borderlands 2 and i will murder ...  \n",
       "...                                                  ...  \n",
       "15832                                            She wtf  \n",
       "15833                                                wtf  \n",
       "15834  ICYMI: @BLASTDota finds sponsor in @KITKAT. . ...  \n",
       "15835  ICYMI: @ BLASTDota finds sponsor in @ KITKAT. ...  \n",
       "15836  ICYMI: @ BLASTDota finds a sponsor in @ KITKAT...  \n",
       "\n",
       "[15676 rows x 4 columns]"
      ]
     },
     "execution_count": 28,
     "metadata": {},
     "output_type": "execute_result"
    }
   ],
   "source": [
    "df_train"
   ]
  },
  {
   "cell_type": "code",
   "execution_count": 29,
   "id": "e712875f-62fe-42ba-997d-58ab0041c480",
   "metadata": {
    "id": "e712875f-62fe-42ba-997d-58ab0041c480"
   },
   "outputs": [],
   "source": [
    "df_train.drop(['Id'] , axis=1 , inplace=True)"
   ]
  },
  {
   "cell_type": "code",
   "execution_count": 30,
   "id": "e6bf7292-a28c-45c5-b9ae-06da2c8ceb1d",
   "metadata": {
    "id": "e6bf7292-a28c-45c5-b9ae-06da2c8ceb1d"
   },
   "outputs": [],
   "source": [
    "df_test.drop(['Id'] , axis=1 , inplace=True)"
   ]
  },
  {
   "cell_type": "code",
   "execution_count": 31,
   "id": "819d7d35-a082-4414-b7bf-ce403074ec9d",
   "metadata": {
    "id": "819d7d35-a082-4414-b7bf-ce403074ec9d"
   },
   "outputs": [],
   "source": [
    "#train test split\n",
    "X_train=df_train.drop(['Sentiment'] , axis=1)\n",
    "X_test=df_test.drop(['Sentiment'] , axis=1)\n",
    "y_train=df_train['Sentiment']\n",
    "y_test=df_test['Sentiment']"
   ]
  },
  {
   "cell_type": "code",
   "execution_count": 32,
   "id": "20382a89-e0c3-41b3-b735-4aef3ef51bc1",
   "metadata": {
    "colab": {
     "base_uri": "https://localhost:8080/"
    },
    "id": "20382a89-e0c3-41b3-b735-4aef3ef51bc1",
    "outputId": "dcf25dd5-a154-4c47-8350-18b8fbd1795f"
   },
   "outputs": [
    {
     "data": {
      "text/plain": [
       "array(['Positive', 'Neutral', 'Negative'], dtype=object)"
      ]
     },
     "execution_count": 32,
     "metadata": {},
     "output_type": "execute_result"
    }
   ],
   "source": [
    "df_train.Sentiment.unique()"
   ]
  },
  {
   "cell_type": "code",
   "execution_count": 33,
   "id": "d22350d6-6f41-41f5-a8a6-6be59d643043",
   "metadata": {
    "id": "d22350d6-6f41-41f5-a8a6-6be59d643043"
   },
   "outputs": [],
   "source": [
    "#count the no of words in a sentence\n",
    "from sklearn.feature_extraction.text import CountVectorizer"
   ]
  },
  {
   "cell_type": "code",
   "execution_count": 34,
   "id": "3d44c2fc-79f9-4348-8449-a3ca39276c8e",
   "metadata": {
    "id": "3d44c2fc-79f9-4348-8449-a3ca39276c8e"
   },
   "outputs": [],
   "source": [
    "v=CountVectorizer()\n",
    "X_train_count=v.fit_transform(X_train.Content)"
   ]
  },
  {
   "cell_type": "code",
   "execution_count": 35,
   "id": "b47d498f-73b2-4f35-873b-3a2f24084e2d",
   "metadata": {
    "id": "b47d498f-73b2-4f35-873b-3a2f24084e2d"
   },
   "outputs": [],
   "source": [
    "#label Encoding\n",
    "from sklearn.preprocessing import LabelEncoder\n",
    "le=LabelEncoder()\n",
    "y_train=le.fit_transform(y_train)\n",
    "y_test=le.fit_transform(y_test)"
   ]
  },
  {
   "cell_type": "code",
   "execution_count": 36,
   "id": "52357c44-c18e-4eb7-89b8-06270f778e05",
   "metadata": {
    "colab": {
     "base_uri": "https://localhost:8080/"
    },
    "id": "52357c44-c18e-4eb7-89b8-06270f778e05",
    "outputId": "6697afe8-9b62-44ca-b6eb-e5c71bfb0a39"
   },
   "outputs": [
    {
     "data": {
      "text/plain": [
       "array([2, 2, 2, ..., 1, 1, 1])"
      ]
     },
     "execution_count": 36,
     "metadata": {},
     "output_type": "execute_result"
    }
   ],
   "source": [
    "y_train"
   ]
  },
  {
   "cell_type": "code",
   "execution_count": 37,
   "id": "2d8ecb91-916a-4621-ae67-66a4014e4d9b",
   "metadata": {
    "id": "2d8ecb91-916a-4621-ae67-66a4014e4d9b"
   },
   "outputs": [],
   "source": [
    "X_train.drop(['Entity'],axis=1,inplace=True)\n",
    "X_test.drop(['Entity'],axis=1,inplace=True)"
   ]
  },
  {
   "cell_type": "code",
   "execution_count": 38,
   "id": "f3a54929-6bdb-45da-8dbb-a72b99719394",
   "metadata": {
    "colab": {
     "base_uri": "https://localhost:8080/",
     "height": 75
    },
    "id": "f3a54929-6bdb-45da-8dbb-a72b99719394",
    "outputId": "64070cd5-ef89-4935-9140-aa8f0d70aaf2"
   },
   "outputs": [
    {
     "data": {
      "text/html": [
       "<style>#sk-container-id-1 {color: black;background-color: white;}#sk-container-id-1 pre{padding: 0;}#sk-container-id-1 div.sk-toggleable {background-color: white;}#sk-container-id-1 label.sk-toggleable__label {cursor: pointer;display: block;width: 100%;margin-bottom: 0;padding: 0.3em;box-sizing: border-box;text-align: center;}#sk-container-id-1 label.sk-toggleable__label-arrow:before {content: \"▸\";float: left;margin-right: 0.25em;color: #696969;}#sk-container-id-1 label.sk-toggleable__label-arrow:hover:before {color: black;}#sk-container-id-1 div.sk-estimator:hover label.sk-toggleable__label-arrow:before {color: black;}#sk-container-id-1 div.sk-toggleable__content {max-height: 0;max-width: 0;overflow: hidden;text-align: left;background-color: #f0f8ff;}#sk-container-id-1 div.sk-toggleable__content pre {margin: 0.2em;color: black;border-radius: 0.25em;background-color: #f0f8ff;}#sk-container-id-1 input.sk-toggleable__control:checked~div.sk-toggleable__content {max-height: 200px;max-width: 100%;overflow: auto;}#sk-container-id-1 input.sk-toggleable__control:checked~label.sk-toggleable__label-arrow:before {content: \"▾\";}#sk-container-id-1 div.sk-estimator input.sk-toggleable__control:checked~label.sk-toggleable__label {background-color: #d4ebff;}#sk-container-id-1 div.sk-label input.sk-toggleable__control:checked~label.sk-toggleable__label {background-color: #d4ebff;}#sk-container-id-1 input.sk-hidden--visually {border: 0;clip: rect(1px 1px 1px 1px);clip: rect(1px, 1px, 1px, 1px);height: 1px;margin: -1px;overflow: hidden;padding: 0;position: absolute;width: 1px;}#sk-container-id-1 div.sk-estimator {font-family: monospace;background-color: #f0f8ff;border: 1px dotted black;border-radius: 0.25em;box-sizing: border-box;margin-bottom: 0.5em;}#sk-container-id-1 div.sk-estimator:hover {background-color: #d4ebff;}#sk-container-id-1 div.sk-parallel-item::after {content: \"\";width: 100%;border-bottom: 1px solid gray;flex-grow: 1;}#sk-container-id-1 div.sk-label:hover label.sk-toggleable__label {background-color: #d4ebff;}#sk-container-id-1 div.sk-serial::before {content: \"\";position: absolute;border-left: 1px solid gray;box-sizing: border-box;top: 0;bottom: 0;left: 50%;z-index: 0;}#sk-container-id-1 div.sk-serial {display: flex;flex-direction: column;align-items: center;background-color: white;padding-right: 0.2em;padding-left: 0.2em;position: relative;}#sk-container-id-1 div.sk-item {position: relative;z-index: 1;}#sk-container-id-1 div.sk-parallel {display: flex;align-items: stretch;justify-content: center;background-color: white;position: relative;}#sk-container-id-1 div.sk-item::before, #sk-container-id-1 div.sk-parallel-item::before {content: \"\";position: absolute;border-left: 1px solid gray;box-sizing: border-box;top: 0;bottom: 0;left: 50%;z-index: -1;}#sk-container-id-1 div.sk-parallel-item {display: flex;flex-direction: column;z-index: 1;position: relative;background-color: white;}#sk-container-id-1 div.sk-parallel-item:first-child::after {align-self: flex-end;width: 50%;}#sk-container-id-1 div.sk-parallel-item:last-child::after {align-self: flex-start;width: 50%;}#sk-container-id-1 div.sk-parallel-item:only-child::after {width: 0;}#sk-container-id-1 div.sk-dashed-wrapped {border: 1px dashed gray;margin: 0 0.4em 0.5em 0.4em;box-sizing: border-box;padding-bottom: 0.4em;background-color: white;}#sk-container-id-1 div.sk-label label {font-family: monospace;font-weight: bold;display: inline-block;line-height: 1.2em;}#sk-container-id-1 div.sk-label-container {text-align: center;}#sk-container-id-1 div.sk-container {/* jupyter's `normalize.less` sets `[hidden] { display: none; }` but bootstrap.min.css set `[hidden] { display: none !important; }` so we also need the `!important` here to be able to override the default hidden behavior on the sphinx rendered scikit-learn.org. See: https://github.com/scikit-learn/scikit-learn/issues/21755 */display: inline-block !important;position: relative;}#sk-container-id-1 div.sk-text-repr-fallback {display: none;}</style><div id=\"sk-container-id-1\" class=\"sk-top-container\"><div class=\"sk-text-repr-fallback\"><pre>MultinomialNB()</pre><b>In a Jupyter environment, please rerun this cell to show the HTML representation or trust the notebook. <br />On GitHub, the HTML representation is unable to render, please try loading this page with nbviewer.org.</b></div><div class=\"sk-container\" hidden><div class=\"sk-item\"><div class=\"sk-estimator sk-toggleable\"><input class=\"sk-toggleable__control sk-hidden--visually\" id=\"sk-estimator-id-1\" type=\"checkbox\" checked><label for=\"sk-estimator-id-1\" class=\"sk-toggleable__label sk-toggleable__label-arrow\">MultinomialNB</label><div class=\"sk-toggleable__content\"><pre>MultinomialNB()</pre></div></div></div></div></div>"
      ],
      "text/plain": [
       "MultinomialNB()"
      ]
     },
     "execution_count": 38,
     "metadata": {},
     "output_type": "execute_result"
    }
   ],
   "source": [
    "#model\n",
    "from sklearn.naive_bayes import MultinomialNB\n",
    "model=MultinomialNB()\n",
    "model.fit(X_train_count,y_train)"
   ]
  },
  {
   "cell_type": "code",
   "execution_count": 39,
   "id": "20c120f3-2ef5-444e-9091-f52279a7a779",
   "metadata": {
    "colab": {
     "base_uri": "https://localhost:8080/"
    },
    "id": "20c120f3-2ef5-444e-9091-f52279a7a779",
    "outputId": "888e70b5-ac3a-4fc0-acc0-4d3f9e02b80c"
   },
   "outputs": [
    {
     "data": {
      "text/plain": [
       "array([2])"
      ]
     },
     "execution_count": 39,
     "metadata": {},
     "output_type": "execute_result"
    }
   ],
   "source": [
    "comment=[\n",
    "    'I am coming to the borders and I will kill you.'\n",
    "]\n",
    "comment_count=v.transform(comment)\n",
    "model.predict(comment_count)"
   ]
  },
  {
   "cell_type": "code",
   "execution_count": 40,
   "id": "c579b676-534d-4820-9ed7-4aefefef6403",
   "metadata": {
    "colab": {
     "base_uri": "https://localhost:8080/"
    },
    "id": "c579b676-534d-4820-9ed7-4aefefef6403",
    "outputId": "71f4aeb7-ddaa-49a8-a469-8c14b9b60592"
   },
   "outputs": [
    {
     "data": {
      "text/plain": [
       "array([1])"
      ]
     },
     "execution_count": 40,
     "metadata": {},
     "output_type": "execute_result"
    }
   ],
   "source": [
    "comment=[\n",
    "    '\"Anyone that plays a bad luck albatross deck in hearthstone is a literal cop.'\n",
    "]\n",
    "comment_count=v.transform(comment)\n",
    "model.predict(comment_count)"
   ]
  },
  {
   "cell_type": "code",
   "execution_count": 41,
   "id": "74de50ad-1724-4be0-88a7-e95a0ce4501e",
   "metadata": {
    "colab": {
     "base_uri": "https://localhost:8080/"
    },
    "id": "74de50ad-1724-4be0-88a7-e95a0ce4501e",
    "outputId": "87b99dbd-9092-41e7-d18b-81a2a761bb43"
   },
   "outputs": [
    {
     "data": {
      "text/plain": [
       "array([[0, 0, 0, ..., 0, 0, 0],\n",
       "       [0, 0, 0, ..., 0, 0, 0],\n",
       "       [0, 0, 0, ..., 0, 0, 0],\n",
       "       ...,\n",
       "       [0, 0, 0, ..., 0, 0, 0],\n",
       "       [0, 0, 0, ..., 0, 0, 0],\n",
       "       [0, 0, 0, ..., 0, 0, 0]])"
      ]
     },
     "execution_count": 41,
     "metadata": {},
     "output_type": "execute_result"
    }
   ],
   "source": [
    "X_test_count=v.transform(X_test.Content)\n",
    "X_test_count.toarray()"
   ]
  },
  {
   "cell_type": "code",
   "execution_count": 42,
   "id": "f1dfc1c7-6cca-444b-a2c7-72fb04be0a77",
   "metadata": {
    "colab": {
     "base_uri": "https://localhost:8080/"
    },
    "id": "f1dfc1c7-6cca-444b-a2c7-72fb04be0a77",
    "outputId": "69cac285-a035-40ad-a108-eff3b37a7ec0"
   },
   "outputs": [
    {
     "data": {
      "text/plain": [
       "(1000, 11242)"
      ]
     },
     "execution_count": 42,
     "metadata": {},
     "output_type": "execute_result"
    }
   ],
   "source": [
    "X_test_count.shape"
   ]
  },
  {
   "cell_type": "code",
   "execution_count": 43,
   "id": "57e6911e-1c5b-4813-93fb-b9d2e39f8cb2",
   "metadata": {
    "colab": {
     "base_uri": "https://localhost:8080/"
    },
    "id": "57e6911e-1c5b-4813-93fb-b9d2e39f8cb2",
    "outputId": "a12789ec-bf5e-4ec0-94d8-da917416b3c9"
   },
   "outputs": [
    {
     "data": {
      "text/plain": [
       "0.642"
      ]
     },
     "execution_count": 43,
     "metadata": {},
     "output_type": "execute_result"
    }
   ],
   "source": [
    "#score\n",
    "model.score(X_test_count,y_test)"
   ]
  }
 ],
 "metadata": {
  "colab": {
   "provenance": []
  },
  "kernelspec": {
   "display_name": "Python 3 (ipykernel)",
   "language": "python",
   "name": "python3"
  },
  "language_info": {
   "codemirror_mode": {
    "name": "ipython",
    "version": 3
   },
   "file_extension": ".py",
   "mimetype": "text/x-python",
   "name": "python",
   "nbconvert_exporter": "python",
   "pygments_lexer": "ipython3",
   "version": "3.9.13"
  }
 },
 "nbformat": 4,
 "nbformat_minor": 5
}
